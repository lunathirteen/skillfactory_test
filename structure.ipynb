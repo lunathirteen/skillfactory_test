{
 "cells": [
  {
   "cell_type": "code",
   "execution_count": null,
   "metadata": {
    "Collapsed": "false"
   },
   "outputs": [],
   "source": [
    "import requests\n",
    "import pandas as pd\n",
    "import json\n",
    "\n",
    "from typing import Dict\n",
    "from pandas.io.json import json_normalize"
   ]
  },
  {
   "cell_type": "code",
   "execution_count": null,
   "metadata": {
    "Collapsed": "false"
   },
   "outputs": [],
   "source": [
    "def get_structure_course(url: str) -> Dict[str, str]:\n",
    "    \"\"\"Function gets cource structure from API\"\"\"\n",
    "\n",
    "    try:\n",
    "        r = requests.post(url)\n",
    "        r.raise_for_status()\n",
    "    except requests.exceptions.HTTPError as errh:\n",
    "        print('HTTPError: {}'.format(errh))\n",
    "        print(r.content.decode('UTF-8'))\n",
    "        raise\n",
    "    \n",
    "    result = json.loads(r.text)\n",
    "    \n",
    "    return result"
   ]
  },
  {
   "cell_type": "code",
   "execution_count": null,
   "metadata": {
    "Collapsed": "false"
   },
   "outputs": [],
   "source": [
    "url = 'http://84.201.129.203:4545/get_structure_course'\n",
    "result = get_structure_course(url)"
   ]
  },
  {
   "cell_type": "code",
   "execution_count": null,
   "metadata": {
    "Collapsed": "false"
   },
   "outputs": [],
   "source": [
    "with open('json_structure.json', 'w') as f:\n",
    "    json.dump(result, f)"
   ]
  },
  {
   "cell_type": "code",
   "execution_count": null,
   "metadata": {
    "Collapsed": "false"
   },
   "outputs": [],
   "source": [
    "with open('json_structure.json', 'r') as f:\n",
    "    data = json.load(f)"
   ]
  },
  {
   "cell_type": "code",
   "execution_count": null,
   "metadata": {
    "Collapsed": "false"
   },
   "outputs": [],
   "source": [
    "children_id = set()\n",
    "for block in data['blocks']:\n",
    "    children_id.update(data['blocks'][block].get('children', []))"
   ]
  },
  {
   "cell_type": "code",
   "execution_count": null,
   "metadata": {
    "Collapsed": "false"
   },
   "outputs": [],
   "source": [
    "node_id = dict()\n",
    "for block in data['blocks']:\n",
    "    if data['blocks'][block]['id'] in children_id:\n",
    "        node_id[data['blocks'][block]['id']] = data['blocks'][block]['display_name']\n",
    "    else:\n",
    "        root_id = data['blocks'][block]['id']"
   ]
  },
  {
   "cell_type": "code",
   "execution_count": null,
   "metadata": {
    "Collapsed": "false"
   },
   "outputs": [],
   "source": [
    "def print_structure(data, root_id, result={}, output='\\t'):\n",
    "    if data['blocks'][root_id].get('children', 0) == 0:\n",
    "        return\n",
    "    else:\n",
    "        output_string = output + str(data['blocks'][root_id]['display_name'])+': '+str(data['blocks'][root_id]['id'])\n",
    "        print(output_string)\n",
    "        result[data['blocks'][root_id]['display_name']] = data['blocks'][root_id]['id']\n",
    "        for child_id in data['blocks'][root_id]['children']:\n",
    "            print_structure(data, child_id, result, '\\t' + output)\n",
    "    return result"
   ]
  },
  {
   "cell_type": "code",
   "execution_count": null,
   "metadata": {
    "Collapsed": "false"
   },
   "outputs": [],
   "source": [
    "res = print_structure(data, root_id)"
   ]
  },
  {
   "cell_type": "code",
   "execution_count": null,
   "metadata": {
    "Collapsed": "false"
   },
   "outputs": [],
   "source": [
    "df = pd.DataFrame(res.items(), columns = ['display_name', 'id'])"
   ]
  },
  {
   "cell_type": "code",
   "execution_count": null,
   "metadata": {
    "Collapsed": "false"
   },
   "outputs": [],
   "source": [
    "df"
   ]
  }
 ],
 "metadata": {
  "kernelspec": {
   "display_name": "Python 3.7.5 64-bit ('base': conda)",
   "language": "python",
   "name": "python37564bitbasecondaf82e73ad64684122bc4ff07975e75bcf"
  },
  "language_info": {
   "codemirror_mode": {
    "name": "ipython",
    "version": 3
   },
   "file_extension": ".py",
   "mimetype": "text/x-python",
   "name": "python",
   "nbconvert_exporter": "python",
   "pygments_lexer": "ipython3",
   "version": "3.7.5"
  }
 },
 "nbformat": 4,
 "nbformat_minor": 4
}
